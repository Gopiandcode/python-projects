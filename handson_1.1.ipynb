{
 "cells": [
  {
   "cell_type": "markdown",
   "metadata": {
    "ein.tags": "worksheet-0",
    "slideshow": {
     "slide_type": "-"
    }
   },
   "source": [
    "# Hands On Machine Learning with Tensorflow and ScikitLearn\n",
    "\n",
    "While going through the hands on machine learning book, I've decided to type up some of the snippets I find here into a notebook, as it'll help gain familiarity with the framework and prepare me for the final year project.\n",
    "\n",
    "\n",
    "We'll start by doing some simple linear regression.\n",
    "Before we do anything, we need to pull in the usual imports:"
   ]
  },
  {
   "cell_type": "code",
   "execution_count": 37,
   "metadata": {
    "autoscroll": false,
    "collapsed": false,
    "ein.hycell": false,
    "ein.tags": "worksheet-0",
    "slideshow": {
     "slide_type": "-"
    }
   },
   "outputs": [],
   "source": [
    "import matplotlib\n",
    "import matplotlib.pyplot as plt\n",
    "import numpy as np\n",
    "import pandas as pd\n",
    "import sklearn\n",
    "from sklearn.linear_model import LinearRegression"
   ]
  },
  {
   "cell_type": "markdown",
   "metadata": {
    "ein.tags": "worksheet-0",
    "slideshow": {
     "slide_type": "-"
    }
   },
   "source": [
    "To construct the dataset, we'll just use a simple additive noise model:"
   ]
  },
  {
   "cell_type": "code",
   "execution_count": 38,
   "metadata": {
    "autoscroll": false,
    "collapsed": false,
    "ein.hycell": false,
    "ein.tags": "worksheet-0",
    "slideshow": {
     "slide_type": "-"
    }
   },
   "outputs": [
    {
     "data": {
      "text/plain": [
       "[<matplotlib.lines.Line2D at 0x7fa060aef2b0>,\n <matplotlib.lines.Line2D at 0x7fa060aef400>,\n <matplotlib.lines.Line2D at 0x7fa060aef550>,\n <matplotlib.lines.Line2D at 0x7fa060aef6a0>,\n <matplotlib.lines.Line2D at 0x7fa060aef7f0>,\n <matplotlib.lines.Line2D at 0x7fa060aef940>,\n <matplotlib.lines.Line2D at 0x7fa060aefa90>,\n <matplotlib.lines.Line2D at 0x7fa060aefbe0>,\n <matplotlib.lines.Line2D at 0x7fa060aefd30>,\n <matplotlib.lines.Line2D at 0x7fa060aefe80>,\n <matplotlib.lines.Line2D at 0x7fa060acf128>,\n <matplotlib.lines.Line2D at 0x7fa060af6128>,\n <matplotlib.lines.Line2D at 0x7fa060af6278>,\n <matplotlib.lines.Line2D at 0x7fa060af63c8>,\n <matplotlib.lines.Line2D at 0x7fa060af6518>,\n <matplotlib.lines.Line2D at 0x7fa060af6668>,\n <matplotlib.lines.Line2D at 0x7fa060af67b8>,\n <matplotlib.lines.Line2D at 0x7fa060af6908>,\n <matplotlib.lines.Line2D at 0x7fa060af6a58>,\n <matplotlib.lines.Line2D at 0x7fa060af6ba8>,\n <matplotlib.lines.Line2D at 0x7fa060af6cf8>,\n <matplotlib.lines.Line2D at 0x7fa060af6e48>,\n <matplotlib.lines.Line2D at 0x7fa060af6f98>,\n <matplotlib.lines.Line2D at 0x7fa060afc128>,\n <matplotlib.lines.Line2D at 0x7fa060afc278>,\n <matplotlib.lines.Line2D at 0x7fa060afc3c8>,\n <matplotlib.lines.Line2D at 0x7fa060afc518>,\n <matplotlib.lines.Line2D at 0x7fa060afc668>,\n <matplotlib.lines.Line2D at 0x7fa060afc7b8>,\n <matplotlib.lines.Line2D at 0x7fa060afc908>,\n <matplotlib.lines.Line2D at 0x7fa060afca58>,\n <matplotlib.lines.Line2D at 0x7fa060afcba8>,\n <matplotlib.lines.Line2D at 0x7fa060afccf8>,\n <matplotlib.lines.Line2D at 0x7fa060afce48>,\n <matplotlib.lines.Line2D at 0x7fa060afcf98>,\n <matplotlib.lines.Line2D at 0x7fa060b01128>,\n <matplotlib.lines.Line2D at 0x7fa060b01278>,\n <matplotlib.lines.Line2D at 0x7fa060b013c8>,\n <matplotlib.lines.Line2D at 0x7fa060b01518>,\n <matplotlib.lines.Line2D at 0x7fa060b01668>,\n <matplotlib.lines.Line2D at 0x7fa060b017b8>,\n <matplotlib.lines.Line2D at 0x7fa060b01908>,\n <matplotlib.lines.Line2D at 0x7fa060b01a58>,\n <matplotlib.lines.Line2D at 0x7fa060b01ba8>,\n <matplotlib.lines.Line2D at 0x7fa060b01cf8>,\n <matplotlib.lines.Line2D at 0x7fa060b01e48>,\n <matplotlib.lines.Line2D at 0x7fa060b01f98>,\n <matplotlib.lines.Line2D at 0x7fa060b05128>,\n <matplotlib.lines.Line2D at 0x7fa060b05278>,\n <matplotlib.lines.Line2D at 0x7fa060b053c8>,\n <matplotlib.lines.Line2D at 0x7fa060b05518>,\n <matplotlib.lines.Line2D at 0x7fa060b05668>,\n <matplotlib.lines.Line2D at 0x7fa060b057b8>,\n <matplotlib.lines.Line2D at 0x7fa060b05908>,\n <matplotlib.lines.Line2D at 0x7fa060b05a58>,\n <matplotlib.lines.Line2D at 0x7fa060b05ba8>,\n <matplotlib.lines.Line2D at 0x7fa060b05cf8>,\n <matplotlib.lines.Line2D at 0x7fa060b05e48>,\n <matplotlib.lines.Line2D at 0x7fa060b05f98>,\n <matplotlib.lines.Line2D at 0x7fa060a8b128>,\n <matplotlib.lines.Line2D at 0x7fa060a8b278>,\n <matplotlib.lines.Line2D at 0x7fa060a8b3c8>,\n <matplotlib.lines.Line2D at 0x7fa060a8b518>,\n <matplotlib.lines.Line2D at 0x7fa060a8b668>,\n <matplotlib.lines.Line2D at 0x7fa060a8b7b8>,\n <matplotlib.lines.Line2D at 0x7fa060a8b908>,\n <matplotlib.lines.Line2D at 0x7fa060a8ba58>,\n <matplotlib.lines.Line2D at 0x7fa060a8bba8>,\n <matplotlib.lines.Line2D at 0x7fa060a8bcf8>,\n <matplotlib.lines.Line2D at 0x7fa060a8be48>,\n <matplotlib.lines.Line2D at 0x7fa060a8bf98>,\n <matplotlib.lines.Line2D at 0x7fa060a91128>,\n <matplotlib.lines.Line2D at 0x7fa060a91278>,\n <matplotlib.lines.Line2D at 0x7fa060a913c8>,\n <matplotlib.lines.Line2D at 0x7fa060a91518>,\n <matplotlib.lines.Line2D at 0x7fa060a91668>,\n <matplotlib.lines.Line2D at 0x7fa060a917b8>,\n <matplotlib.lines.Line2D at 0x7fa060a91908>,\n <matplotlib.lines.Line2D at 0x7fa060a91a58>,\n <matplotlib.lines.Line2D at 0x7fa060a91ba8>,\n <matplotlib.lines.Line2D at 0x7fa060a91cf8>,\n <matplotlib.lines.Line2D at 0x7fa060a91e48>,\n <matplotlib.lines.Line2D at 0x7fa060a91f98>,\n <matplotlib.lines.Line2D at 0x7fa060a95128>,\n <matplotlib.lines.Line2D at 0x7fa060a95278>,\n <matplotlib.lines.Line2D at 0x7fa060a953c8>,\n <matplotlib.lines.Line2D at 0x7fa060a95518>,\n <matplotlib.lines.Line2D at 0x7fa060a95668>,\n <matplotlib.lines.Line2D at 0x7fa060a957b8>,\n <matplotlib.lines.Line2D at 0x7fa060a95908>,\n <matplotlib.lines.Line2D at 0x7fa060a95a58>,\n <matplotlib.lines.Line2D at 0x7fa060a95ba8>,\n <matplotlib.lines.Line2D at 0x7fa060a95cf8>,\n <matplotlib.lines.Line2D at 0x7fa060a95e48>,\n <matplotlib.lines.Line2D at 0x7fa060a95f98>,\n <matplotlib.lines.Line2D at 0x7fa060a9a128>,\n <matplotlib.lines.Line2D at 0x7fa060a9a278>,\n <matplotlib.lines.Line2D at 0x7fa060a9a3c8>,\n <matplotlib.lines.Line2D at 0x7fa060a9a518>,\n <matplotlib.lines.Line2D at 0x7fa060a9a668>]"
      ]
     },
     "execution_count": 38,
     "metadata": {},
     "output_type": "execute_result"
    },
    {
     "data": {
      "image/png": "[encoded data removed]",
      "text/plain": [
       "<Figure size 432x288 with 1 Axes>"
      ]
     },
     "metadata": {},
     "output_type": "display_data"
    }
   ],
   "source": [
    "bias = 2.53\n",
    "gradient = 8.20\n",
    "\n",
    "epsilon = np.random.rand(1,100)\n",
    "\n",
    "X = np.reshape(np.linspace(0, 100, 100), [1,100])\n",
    "y = gradient * X + bias + epsilon\n",
    "\n",
    "plt.plot(X,y)"
   ]
  },
  {
   "cell_type": "markdown",
   "metadata": {
    "ein.tags": "worksheet-0",
    "slideshow": {
     "slide_type": "-"
    }
   },
   "source": [
    "Now, to perform ols, we'll just use sklearn:"
   ]
  },
  {
   "cell_type": "code",
   "execution_count": 52,
   "metadata": {
    "autoscroll": false,
    "collapsed": false,
    "ein.hycell": false,
    "ein.tags": "worksheet-0",
    "slideshow": {
     "slide_type": "-"
    }
   },
   "outputs": [
    {
     "data": {
      "text/plain": [
       "LinearRegression(copy_X=True, fit_intercept=True, n_jobs=None,\n         normalize=False)"
      ]
     },
     "execution_count": 52,
     "metadata": {},
     "output_type": "execute_result"
    }
   ],
   "source": [
    "model = LinearRegression()\n",
    "\n",
    "model.fit(X,y)"
   ]
  },
  {
   "cell_type": "markdown",
   "metadata": {
    "ein.tags": "worksheet-0",
    "slideshow": {
     "slide_type": "-"
    }
   },
   "source": [
    "Finally, we can view the attributes of our learned model:\n"
   ]
  },
  {
   "cell_type": "code",
   "execution_count": 55,
   "metadata": {
    "autoscroll": false,
    "collapsed": false,
    "ein.hycell": false,
    "ein.tags": "worksheet-0",
    "slideshow": {
     "slide_type": "-"
    }
   },
   "outputs": [
    {
     "data": {
      "text/plain": [
       "True"
      ]
     },
     "execution_count": 55,
     "metadata": {},
     "output_type": "execute_result"
    }
   ],
   "source": [
    "(model.predict(X) - y).sum() == 0\n"
   ]
  },
  {
   "cell_type": "code",
   "execution_count": null,
   "metadata": {
    "autoscroll": false,
    "collapsed": false,
    "ein.hycell": false,
    "ein.tags": "worksheet-0",
    "slideshow": {
     "slide_type": "-"
    }
   },
   "outputs": [],
   "source": [
    "Now, this is cool and all, but here we're really interested in getting a real-world model out of this.\n",
    "Clearly, to do this, we'll need to introduce some kind of api for working with this.\n",
    "\n",
    "In our case, we'll do it via the command line"
   ]
  }
 ],
 "metadata": {
  "celltoolbar": "Raw Cell Format",
  "kernelspec": {
   "display_name": "Python 3",
   "name": "python3"
  },
  "language_info": {
   "codemirror_mode": {
    "name": "ipython",
    "version": 3
   },
   "file_extension": ".py",
   "mimetype": "text/x-python",
   "name": "python",
   "nbconvert_exporter": "python",
   "pygments_lexer": "ipython3",
   "version": "3.7.0"
  },
  "name": "handson_1.1.ipynb"
 },
 "nbformat": 4,
 "nbformat_minor": 2
}
